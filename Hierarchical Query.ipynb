{
 "cells": [
  {
   "cell_type": "markdown",
   "metadata": {},
   "source": [
    "# Hierarchical Query\n",
    "\n",
    "#### INTRODUCTION\n",
    "- A hierarchical query is a type of SQL query that handles hierarchical model data<br>\n",
    "- Parent-child relationship exists within the records of the table<br>\n",
    "- Recursive CTE'S are well suited for querying hierarchical data<br>\n",
    "\n",
    "#### SYNTAX OF RECURSIVE CTE\n",
    "\n",
    "<code>\n",
    "    WITH cte_name (column1, column2, …)\n",
    "    AS\n",
    "    (\n",
    "       cte_query_definition -- Anchor member\n",
    "       UNION ALL\n",
    "       cte_query_definition -- Recursive member; references cte_name.\n",
    "    )    \n",
    "    -- Statement using the CTE\n",
    "    SELECT *\n",
    "    FROM   cte_name;\n",
    "</code>\n",
    "\n",
    "#### STRUCTURE OF RECURSIVE CTE \n",
    "\n",
    "<ul>\n",
    "<li> ANCHOR MEMBER<br>\n",
    "    This is the base case query that gets executed first and only once. Let say returns resultset R0.</li>\n",
    "<li> RECURSIVE MEMBER<br>\n",
    "    The recursive query uses the result from the base case and is executed repeatedly.Each execution returns subset of data.Lets say resultset is R1.The execution of the query continues until it satifies the terminating condition.</li>\n",
    "<li> UNION<br>\n",
    "    The query execution stops on termination check and result set R0 and R1 are combined through 'UNION'.</li>\n",
    "</ul>\n",
    "\n"
   ]
  },
  {
   "cell_type": "markdown",
   "metadata": {},
   "source": [
    "#### EXAMPLE\n",
    "```\n",
    "CREATE TABLE royal_family\n",
    "    (`ID` int, `NAME` varchar(9), `PARENT_ID` int);\n",
    "    \n",
    "INSERT INTO royal_family\n",
    "    (`ID`, `NAME`, `PARENT_ID`)\n",
    "VALUES\n",
    "    (1, 'Elizabeth', 0),\n",
    "    (2, 'Charles', 1),\n",
    "    (3, 'William', 2),\n",
    "    (4, 'Harry', 2),\n",
    "    (5, 'George', 3),\n",
    "    (6, 'Charlotte', 3),\n",
    "    (7, 'Louis', 3),\n",
    "    (8, 'Archie', 4);\n",
    "```\n"
   ]
  },
  {
   "attachments": {
    "image.png": {
     "image/png": "[encoded data removed]"
    }
   },
   "cell_type": "markdown",
   "metadata": {},
   "source": [
    "![image.png](attachment:image.png)"
   ]
  },
  {
   "cell_type": "markdown",
   "metadata": {},
   "source": [
    "**1. Fetch all the children and grandchildren of Elizabeth\n",
    "(or)\n",
    "    Fetch all descendents of Elizabeth"
   ]
  },
  {
   "cell_type": "markdown",
   "metadata": {},
   "source": [
    "Soln:\n",
    "```\n",
    "WITH RECURSIVE top_down_cte AS\n",
    "(\n",
    "    SELECT M.ID,M.NAME,M.PARENT_ID FROM royal_family AS M WHERE M.NAME='ELIZABETH'\n",
    "    UNION\n",
    "    SELECT m.ID,m.NAME,m.PARENT_ID FROM top_down_cte\n",
    "    INNER JOIN royal_family AS m \n",
    "    ON top_down_cte.ID = m.PARENT_ID\n",
    ")SELECT * FROM top_down_cte;\n",
    "```"
   ]
  },
  {
   "cell_type": "markdown",
   "metadata": {},
   "source": [
    "**2. Fetch all ancestors of 'Archie'"
   ]
  },
  {
   "cell_type": "markdown",
   "metadata": {},
   "source": [
    "Soln:\n",
    "```\n",
    "WITH RECURSIVE bottom_up_cte AS\n",
    "(\n",
    "  SELECT M.ID,M.NAME,M.PARENT_ID FROM royal_family AS M WHERE M.NAME='ARCHIE'\n",
    "  UNION\n",
    "  SELECT m.ID,m.NAME,m.PARENT_ID FROM bottom_up_cte \n",
    "  INNER JOIN royal_family AS m \n",
    "  ON bottom_up_cte.PARENT_ID = m.ID\n",
    ")SELECT * FROM bottom_up_cte;\n",
    "```"
   ]
  },
  {
   "cell_type": "markdown",
   "metadata": {},
   "source": [
    "**3. Fetch all Grandparents and Grandchildren"
   ]
  },
  {
   "cell_type": "markdown",
   "metadata": {},
   "source": [
    "Soln:\n",
    "```\n",
    "WITH RECURSIVE gc AS\n",
    "(\n",
    "  SELECT M.ID,M.NAME FROM royal_family AS M\n",
    "  UNION\n",
    "  SELECT m2.ID,m2.NAME FROM gc \n",
    "  INNER JOIN royal_family AS m1\n",
    "  ON m1.PARENT_ID = gc.ID\n",
    "  INNER JOIN royal_family AS m2\n",
    "  ON m2.PARENT_ID = m1.ID\n",
    ")SELECT * FROM gc;\n",
    "```"
   ]
  }
 ],
 "metadata": {
  "kernelspec": {
   "display_name": "Python 3",
   "language": "python",
   "name": "python3"
  },
  "language_info": {
   "codemirror_mode": {
    "name": "ipython",
    "version": 3
   },
   "file_extension": ".py",
   "mimetype": "text/x-python",
   "name": "python",
   "nbconvert_exporter": "python",
   "pygments_lexer": "ipython3",
   "version": "3.8.3"
  }
 },
 "nbformat": 4,
 "nbformat_minor": 4
}
